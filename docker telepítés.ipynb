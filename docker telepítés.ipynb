{
 "cells": [
  {
   "cell_type": "markdown",
   "metadata": {},
   "source": [
    "\n",
    "# docker telepítése:\n",
    "***\n",
    "#### Docker ansible playbook helyi klón az ansible-galaxy segítségével:\n",
    "ansible-galaxy install nickjj.docker\n"
   ]
  },
  {
   "cell_type": "code",
   "execution_count": null,
   "metadata": {},
   "outputs": [],
   "source": [
    "!ansible-galaxy install nickjj.docker\n"
   ]
  },
  {
   "cell_type": "code",
   "execution_count": null,
   "metadata": {},
   "outputs": [],
   "source": [
    "! mkdir docker-install\n",
    "! mkdir docker-install/inventory\n",
    "! mkdir docker-install/group_vars"
   ]
  },
  {
   "cell_type": "code",
   "execution_count": null,
   "metadata": {},
   "outputs": [],
   "source": [
    "%%file site.yml\n",
    "---\n",
    "\n",
    "- name: \"Configure app server(s)\"\n",
    "  hosts: \"ubuka\"\n",
    "  become: True\n",
    "\n",
    "  roles:\n",
    "    - { role: \"nickjj.docker\", tags: \"docker\" }"
   ]
  },
  {
   "cell_type": "code",
   "execution_count": null,
   "metadata": {},
   "outputs": [],
   "source": [
    "%%file group_vars/app.yml\n",
    "---\n",
    "\n",
    "docker_users: [\"ubuntu\"]"
   ]
  },
  {
   "cell_type": "code",
   "execution_count": null,
   "metadata": {},
   "outputs": [],
   "source": [
    "!ansible-playbook -i ./hosts site.yml -t docker "
   ]
  },
  {
   "cell_type": "code",
   "execution_count": null,
   "metadata": {},
   "outputs": [],
   "source": [
    "%%file ./hosts\n",
    "localhost              ansible_connection=local\n",
    "\n",
    "v112 ansible_host=192.168.0.112\n",
    "ubuka ansible_host=192.168.0.236\n",
    "u100 ansible_host=192.168.0.100 \n",
    "u101 ansible_host=192.168.0.101 \n",
    "\n",
    "\n",
    "amazon1 ansible_host=52.59.217.167\n",
    "\n",
    "docker1 ansible_host=www.unibox.hu\n",
    "\n",
    "[vbox]\n",
    "v112\n",
    "ubuka\n",
    "[vbox:vars]\n",
    "ansible_port=22 \n",
    "ansible_connection=ssh \n",
    "ansible_python_interpreter=/usr/bin/python3\n",
    "ansible_user=ubuntu\n",
    "\n",
    "\n",
    "[tim]\n",
    "u[101:130]\n",
    "\n",
    "[tim:vars]\n",
    "ansible_port=22 \n",
    "ansible_connection=ssh \n",
    "ansible_python_interpreter=/usr/bin/python3\n",
    "ansible_user=sis\n",
    "\n",
    "\n",
    "[ubuntu]\n",
    "server1\n",
    "\n",
    "[ubuntu:vars]\n",
    "ansible_port=22\n",
    "ansible_connection=ssh\n",
    "ansible_python_interpreter=/usr/bin/python3\n",
    "\n",
    "[amazon]\n",
    "amazon1\n",
    "\n",
    "[amazon:vars]\n",
    "ansible_port=22\n",
    "ansible_connection=ssh\n",
    "ansible_user=ubuntu\n",
    "ansible_ssh_private_key_file=/home/sis/.ssh/amazon1.pem\n",
    "ansible_python_interpreter=/usr/bin/python3"
   ]
  }
 ],
 "metadata": {
  "kernelspec": {
   "display_name": "Python 3",
   "language": "python",
   "name": "python3"
  },
  "language_info": {
   "codemirror_mode": {
    "name": "ipython",
    "version": 3
   },
   "file_extension": ".py",
   "mimetype": "text/x-python",
   "name": "python",
   "nbconvert_exporter": "python",
   "pygments_lexer": "ipython3",
   "version": "3.5.2"
  }
 },
 "nbformat": 4,
 "nbformat_minor": 2
}
