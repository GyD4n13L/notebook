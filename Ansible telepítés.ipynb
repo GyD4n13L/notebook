{
 "cells": [
  {
   "cell_type": "markdown",
   "metadata": {},
   "source": [
    "# Ansible telepítése\n",
    "***\n",
    "#### ansible-install szkript:\n",
    "#!/bin/bash <br>\n",
    "sudo apt-get update <br>\n",
    "sudo apt-get -y install software-properties-common <br>\n",
    "sudo apt-add-repository -y ppa:ansible/ansible <br>\n",
    "sudo apt-get update <br>\n",
    "sudo apt-get -y install ansible\n",
    "\n",
    "***\n",
    "#### az ansible-install.sh fájl létrehozása:"
   ]
  },
  {
   "cell_type": "code",
   "execution_count": 3,
   "metadata": {},
   "outputs": [
    {
     "name": "stdout",
     "output_type": "stream",
     "text": [
      "Writing ./ansible-install.sh\n"
     ]
    }
   ],
   "source": [
    "%%file ./ansible-install.sh\n",
    "#!/bin/bash\n",
    "sudo apt-get update\n",
    "sudo apt-get -y install software-properties-common\n",
    "sudo apt-add-repository -y ppa:ansible/ansible\n",
    "sudo apt-get update\n",
    "sudo apt-get -y install ansible"
   ]
  },
  {
   "cell_type": "markdown",
   "metadata": {},
   "source": [
    "***\n",
    "#### ansible.cfg file:\n",
    "[defaults]<br>\n",
    "host_key_checking = false<br>\n",
    "#### ansible.cfg file létrehozása:"
   ]
  },
  {
   "cell_type": "code",
   "execution_count": 5,
   "metadata": {},
   "outputs": [
    {
     "name": "stdout",
     "output_type": "stream",
     "text": [
      "Overwriting ./ansible.cfg\n"
     ]
    }
   ],
   "source": [
    "%%file ./ansible.cfg\n",
    "[defaults]\n",
    "host_key_checking = false"
   ]
  },
  {
   "cell_type": "markdown",
   "metadata": {},
   "source": [
    "***\n",
    "###  ansible-install.sh futtatása:"
   ]
  },
  {
   "cell_type": "code",
   "execution_count": null,
   "metadata": {},
   "outputs": [],
   "source": [
    "%%sh\n",
    "chmod +x ./ansible-install.sh\n",
    "xterm -e \"./ansible-install.sh\"\n",
    "rm ./ansible-install.sh"
   ]
  },
  {
   "cell_type": "markdown",
   "metadata": {},
   "source": [
    "***\n",
    "#### Ansible verzió lekérdezése:\n",
    "ansible --version"
   ]
  },
  {
   "cell_type": "code",
   "execution_count": 6,
   "metadata": {},
   "outputs": [
    {
     "name": "stdout",
     "output_type": "stream",
     "text": [
      "ansible 2.4.3.0\r\n",
      "  config file = /home/sis/notebook/ansible.cfg\r\n",
      "  configured module search path = [u'/home/sis/.ansible/plugins/modules', u'/usr/share/ansible/plugins/modules']\r\n",
      "  ansible python module location = /usr/lib/python2.7/dist-packages/ansible\r\n",
      "  executable location = /usr/bin/ansible\r\n",
      "  python version = 2.7.12 (default, Dec  4 2017, 14:50:18) [GCC 5.4.0 20160609]\r\n"
     ]
    }
   ],
   "source": [
    "!ansible --version"
   ]
  },
  {
   "cell_type": "markdown",
   "metadata": {},
   "source": [
    "***\n",
    "#### Ansible inventory (host) fájl létrehozása:"
   ]
  },
  {
   "cell_type": "code",
   "execution_count": null,
   "metadata": {},
   "outputs": [],
   "source": [
    "%%file ./hosts\n",
    "localhost              ansible_connection=local\n",
    "\n",
    "v112 ansible_host=192.168.0.112\n",
    "ubuka ansible_host=192.168.0.236\n",
    "u100 ansible_host=192.168.0.100 \n",
    "u101 ansible_host=192.168.0.101 \n",
    "u102 ansible_host=192.168.0.102 \n",
    "u103 ansible_host=192.168.0.103 \n",
    "u104 ansible_host=192.168.0.104 \n",
    "u105 ansible_host=192.168.0.105 \n",
    "u106 ansible_host=192.168.0.106 \n",
    "u107 ansible_host=192.168.0.107 \n",
    "u108 ansible_host=192.168.0.108 \n",
    "u109 ansible_host=192.168.0.109 \n",
    "u110 ansible_host=192.168.0.110 \n",
    "u111 ansible_host=192.168.0.111 \n",
    "u112 ansible_host=192.168.0.112 \n",
    "u113 ansible_host=192.168.0.113\n",
    "u114 ansible_host=192.168.0.114 \n",
    "u115 ansible_host=192.168.0.115 \n",
    "u116 ansible_host=192.168.0.116 \n",
    "u117 ansible_host=192.168.0.117 \n",
    "u118 ansible_host=192.168.0.118 \n",
    "u119 ansible_host=192.168.0.119 \n",
    "u120 ansible_host=192.168.0.120 \n",
    "u121 ansible_host=192.168.0.121 \n",
    "u122 ansible_host=192.168.0.122 \n",
    "u123 ansible_host=192.168.0.123 \n",
    "u124 ansible_host=192.168.0.124 \n",
    "u125 ansible_host=192.168.0.125 \n",
    "u126 ansible_host=192.168.0.126 \n",
    "u127 ansible_host=192.168.0.127 \n",
    "u128 ansible_host=192.168.0.128 \n",
    "u129 ansible_host=192.168.0.129 \n",
    "u130 ansible_host=192.168.0.130 \n",
    "\n",
    "amazon1 ansible_host=52.59.217.167\n",
    "\n",
    "docker1 ansible_host=www.unibox.hu\n",
    "\n",
    "[vbox]\n",
    "v112\n",
    "ubuka\n",
    "[vbox:vars]\n",
    "ansible_port=22 \n",
    "ansible_connection=ssh \n",
    "ansible_python_interpreter=/usr/bin/python3\n",
    "ansible_user=ubuntu\n",
    "\n",
    "\n",
    "[tim]\n",
    "u[101:130]\n",
    "\n",
    "[tim:vars]\n",
    "ansible_port=22 \n",
    "ansible_connection=ssh \n",
    "ansible_python_interpreter=/usr/bin/python3\n",
    "ansible_user=sis\n",
    "\n",
    "\n",
    "[ubuntu]\n",
    "server1\n",
    "\n",
    "[ubuntu:vars]\n",
    "ansible_port=22\n",
    "ansible_connection=ssh\n",
    "ansible_python_interpreter=/usr/bin/python3\n",
    "\n",
    "[amazon]\n",
    "amazon1\n",
    "\n",
    "[amazon:vars]\n",
    "ansible_port=22\n",
    "ansible_connection=ssh\n",
    "ansible_user=ubuntu\n",
    "ansible_ssh_private_key_file=/home/sis/.ssh/amazon1.pem\n",
    "ansible_python_interpreter=/usr/bin/python3\n",
    "\n"
   ]
  }
 ],
 "metadata": {
  "kernelspec": {
   "display_name": "Python 3",
   "language": "python",
   "name": "python3"
  },
  "language_info": {
   "codemirror_mode": {
    "name": "ipython",
    "version": 3
   },
   "file_extension": ".py",
   "mimetype": "text/x-python",
   "name": "python",
   "nbconvert_exporter": "python",
   "pygments_lexer": "ipython3",
   "version": "3.5.2"
  }
 },
 "nbformat": 4,
 "nbformat_minor": 2
}
