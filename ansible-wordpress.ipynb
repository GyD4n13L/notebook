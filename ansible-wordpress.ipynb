{
 "cells": [
  {
   "cell_type": "code",
   "execution_count": 1,
   "metadata": {},
   "outputs": [
    {
     "name": "stdout",
     "output_type": "stream",
     "text": [
      "Cloning into 'wordpress-ansible'...\n",
      "remote: Counting objects: 61, done.\u001b[K\n",
      "remote: Compressing objects: 100% (29/29), done.\u001b[K\n",
      "remote: Total 61 (delta 5), reused 61 (delta 5), pack-reused 0\u001b[K\n",
      "Receiving objects: 100% (61/61), 8.34 KiB | 0 bytes/s, done.\n",
      "Resolving deltas: 100% (5/5), done.\n",
      "Checking connectivity... done.\n"
     ]
    }
   ],
   "source": [
    "!git clone https://github.com/englert/wordpress-ansible.git"
   ]
  },
  {
   "cell_type": "code",
   "execution_count": 7,
   "metadata": {},
   "outputs": [
    {
     "name": "stdout",
     "output_type": "stream",
     "text": [
      "Overwriting ./wordpress-ansible/hosts\n"
     ]
    }
   ],
   "source": [
    "%%file ./wordpress-ansible/hosts\n",
    "localhost ansible_connection=local\n",
    "\n",
    "amazon1 ansible_host=52.59.217.167\n",
    "\n",
    "[amazon]\n",
    "amazon1\n",
    "\n",
    "[amazon:vars]\n",
    "ansible_port=22\n",
    "ansible_connection=ssh\n",
    "ansible_user=ubuntu\n",
    "ansible_ssh_private_key_file=/home/sis/.ssh/amazon1.pem\n",
    "ansible_python_interpreter=/usr/bin/python3\n",
    "\n"
   ]
  },
  {
   "cell_type": "code",
   "execution_count": 6,
   "metadata": {},
   "outputs": [
    {
     "name": "stdout",
     "output_type": "stream",
     "text": [
      "\u001b[0;32mamazon1 | SUCCESS => {\u001b[0m\r\n",
      "\u001b[0;32m    \"changed\": false,\u001b[0m\r\n",
      "\u001b[0;32m    \"ping\": \"pong\"\u001b[0m\r\n",
      "\u001b[0;32m}\u001b[0m\r\n"
     ]
    }
   ],
   "source": [
    "!ansible -i ./wordpress-ansible/hosts --become -m ping amazon1"
   ]
  },
  {
   "cell_type": "code",
   "execution_count": 18,
   "metadata": {},
   "outputs": [
    {
     "name": "stdout",
     "output_type": "stream",
     "text": [
      "\u001b[1;35m [WARNING]: Ignoring invalid attribute: sudo\u001b[0m\n",
      "\u001b[1;35m\u001b[0m\n",
      "\n",
      "PLAY [amazon] ******************************************************************\n",
      "\n",
      "TASK [Gathering Facts] *********************************************************\n",
      "\u001b[0;32mok: [amazon1]\u001b[0m\n",
      "\n",
      "TASK [server : Update apt cache] ***********************************************\n",
      "\u001b[0;32mok: [amazon1]\u001b[0m\n",
      "\n",
      "TASK [server : debconf] ********************************************************\n",
      "\u001b[0;33mchanged: [amazon1]\u001b[0m\n",
      "\n",
      "TASK [server : debconf] ********************************************************\n",
      "\u001b[0;33mchanged: [amazon1]\u001b[0m\n",
      "\n",
      "TASK [server : Install software-properties-common] *****************************\n",
      "\u001b[0;32mok: [amazon1]\u001b[0m\n",
      "\n",
      "TASK [server : Install mysql-server] *******************************************\n",
      "\u001b[0;32mok: [amazon1]\u001b[0m\n",
      "\n",
      "TASK [server : debconf] ********************************************************\n",
      "\u001b[0;33mchanged: [amazon1]\u001b[0m\n",
      "\n",
      "TASK [server : debconf] ********************************************************\n",
      "\u001b[0;33mchanged: [amazon1]\u001b[0m\n",
      "\n",
      "TASK [server : Install required software] **************************************\n",
      "\u001b[0;32mok: [amazon1] => (item=['python3-mysqldb', 'apache2', 'php-mysql', 'php', 'libapache2-mod-php', 'php-mcrypt', 'python-mysqldb'])\u001b[0m\n",
      "\n",
      "TASK [php : Install php extensions] ********************************************\n",
      "\u001b[0;32mok: [amazon1] => (item=['php-gd', 'php-ssh2'])\u001b[0m\n",
      "\n",
      "TASK [mysql : Create mysql database] *******************************************\n",
      "\u001b[0;33mchanged: [amazon1]\u001b[0m\n",
      "\n",
      "TASK [mysql : Create mysql user] ***********************************************\n",
      "\u001b[0;33mchanged: [amazon1]\u001b[0m\n",
      "\n",
      "TASK [wordpress : Download WordPress] ******************************************\n",
      "\u001b[0;33mchanged: [amazon1]\u001b[0m\n",
      "\n",
      "TASK [wordpress : Extract WordPress] *******************************************\n",
      "\u001b[0;33mchanged: [amazon1]\u001b[0m\n",
      "\n",
      "TASK [wordpress : Update default Apache site] **********************************\n",
      "\u001b[0;33mchanged: [amazon1]\u001b[0m\n",
      "\n",
      "TASK [wordpress : Copy sample config file] *************************************\n",
      "\u001b[0;33mchanged: [amazon1]\u001b[0m\n",
      "\n",
      "TASK [wordpress : Create upload folder] ****************************************\n",
      "\u001b[0;33mchanged: [amazon1]\u001b[0m\n",
      "\n",
      "TASK [wordpress : Update WordPress config file] ********************************\n",
      "\u001b[0;33mchanged: [amazon1] => (item={'line': \"define('DB_NAME', 'wordpress');\", 'regexp': \"define\\\\('DB_NAME', '(.)+'\\\\);\"})\u001b[0m\n",
      "\u001b[0;33mchanged: [amazon1] => (item={'line': \"define('DB_USER', 'wordpress');\", 'regexp': \"define\\\\('DB_USER', '(.)+'\\\\);\"})\u001b[0m\n",
      "\u001b[0;33mchanged: [amazon1] => (item={'line': \"define('DB_PASSWORD', 'WordPress!32');\", 'regexp': \"define\\\\('DB_PASSWORD', '(.)+'\\\\);\"})\u001b[0m\n",
      "\n",
      "RUNNING HANDLER [wordpress : restart apache] ***********************************\n",
      "\u001b[0;33mchanged: [amazon1]\u001b[0m\n",
      "\n",
      "PLAY RECAP *********************************************************************\n",
      "\u001b[0;33mamazon1\u001b[0m                    : \u001b[0;32mok=19  \u001b[0m \u001b[0;33mchanged=13  \u001b[0m unreachable=0    failed=0   \n",
      "\n"
     ]
    }
   ],
   "source": [
    "!ansible-playbook -b ./wordpress-ansible/playbook.yml -i ./wordpress-ansible/hosts -e mysql_root_password=#password#"
   ]
  },
  {
   "cell_type": "code",
   "execution_count": null,
   "metadata": {},
   "outputs": [],
   "source": []
  }
 ],
 "metadata": {
  "kernelspec": {
   "display_name": "Python 3",
   "language": "python",
   "name": "python3"
  },
  "language_info": {
   "codemirror_mode": {
    "name": "ipython",
    "version": 3
   },
   "file_extension": ".py",
   "mimetype": "text/x-python",
   "name": "python",
   "nbconvert_exporter": "python",
   "pygments_lexer": "ipython3",
   "version": "3.5.2"
  }
 },
 "nbformat": 4,
 "nbformat_minor": 2
}
