{
 "cells": [
  {
   "cell_type": "code",
   "execution_count": null,
   "metadata": {},
   "outputs": [],
   "source": [
    "%%sh\n",
    "mkdir wp-docker-compose\n",
    "#\n",
    "cat <<EOF> ./wp-docker-compose/docker-compose.yaml \n",
    "version: '2'\n",
    " \n",
    "services:\n",
    "  wordpress:\n",
    "    image: wordpress\n",
    "    ports:\n",
    "      - 8080:80\n",
    "    environment:\n",
    "      WORDPRESS_DB_PASSWORD: example\n",
    "    volumes:\n",
    "      - .:/var/www/html\n",
    " \n",
    "  mysql:\n",
    "    image: mysql\n",
    "    environment:\n",
    "      MYSQL_ROOT_PASSWORD: example\n",
    "    volumes:\n",
    "      - ./db:/var/lib/mysql\n",
    " \n",
    "  phpmyadmin:\n",
    "    image: phpmyadmin/phpmyadmin\n",
    "    links:\n",
    "      - mysql:db\n",
    "    ports:\n",
    "      - 8081:80\n",
    "    environment:\n",
    "      MYSQL_USERNAME: root\n",
    "      MYSQL_ROOT_PASSWORD: example\n",
    "  wpcli: \n",
    "    image: tatemz/wp-cli\n",
    "    volumes_from:\n",
    "        - wordpress\n",
    "    links:\n",
    "        - mysql:mysql\n",
    "    entrypoint: wp\n",
    "    command: \"--info\"\n",
    "EOF"
   ]
  },
  {
   "cell_type": "code",
   "execution_count": null,
   "metadata": {},
   "outputs": [],
   "source": [
    "%%sh\n",
    "cd wp-docker-compose\n",
    "docker-compose up"
   ]
  },
  {
   "cell_type": "code",
   "execution_count": null,
   "metadata": {},
   "outputs": [],
   "source": [
    "!docker ps -a\n"
   ]
  },
  {
   "cell_type": "code",
   "execution_count": null,
   "metadata": {},
   "outputs": [],
   "source": [
    "%%sh \n",
    "cd wp-docker-compose\n",
    "docker-compose stop\n",
    "docker-compose rm wordpress "
   ]
  },
  {
   "cell_type": "code",
   "execution_count": null,
   "metadata": {},
   "outputs": [],
   "source": []
  },
  {
   "cell_type": "code",
   "execution_count": null,
   "metadata": {},
   "outputs": [],
   "source": []
  }
 ],
 "metadata": {
  "kernelspec": {
   "display_name": "Python 3",
   "language": "python",
   "name": "python3"
  },
  "language_info": {
   "codemirror_mode": {
    "name": "ipython",
    "version": 3
   },
   "file_extension": ".py",
   "mimetype": "text/x-python",
   "name": "python",
   "nbconvert_exporter": "python",
   "pygments_lexer": "ipython3",
   "version": "3.5.2"
  }
 },
 "nbformat": 4,
 "nbformat_minor": 2
}
